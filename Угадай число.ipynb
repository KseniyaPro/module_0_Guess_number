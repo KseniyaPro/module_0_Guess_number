{
 "cells": [
  {
   "cell_type": "code",
   "execution_count": 1,
   "metadata": {},
   "outputs": [
    {
     "name": "stdout",
     "output_type": "stream",
     "text": [
      "9\n"
     ]
    }
   ],
   "source": [
    "def game_core_v3(number):\n",
    "    predict = 50\n",
    "    count = 1\n",
    "    if predict < number:\n",
    "        predict += 25\n",
    "        count += 1\n",
    "        if predict < number:\n",
    "            predict += 12\n",
    "            count += 1\n",
    "            if predict < number:\n",
    "                predict += 7\n",
    "            else:\n",
    "                predict -= 6\n",
    "        elif predict > number:\n",
    "            predict -= 12\n",
    "            count += 1\n",
    "            if predict < number:\n",
    "                predict += 7\n",
    "            else:\n",
    "                predict -= 6\n",
    "    elif predict > number:\n",
    "        predict -= 25\n",
    "        count += 1\n",
    "        if predict < number:\n",
    "            predict += 12\n",
    "            count += 1\n",
    "            if predict < number:\n",
    "                predict += 7\n",
    "            else:\n",
    "                predict -= 6\n",
    "        elif predict > number:\n",
    "            predict -= 12\n",
    "            count += 1\n",
    "            if predict < number:\n",
    "                predict += 7\n",
    "            else:\n",
    "                predict -= 6\n",
    "    while predict < number:\n",
    "        predict += 1\n",
    "        count += 1\n",
    "    while predict > number:\n",
    "        predict -= number\n",
    "        count += 1\n",
    "    return count\n",
    " \n",
    "print(max(map(game_core_v3, range(1, 101))))"
   ]
  },
  {
   "cell_type": "code",
   "execution_count": null,
   "metadata": {},
   "outputs": [],
   "source": []
  }
 ],
 "metadata": {
  "kernelspec": {
   "display_name": "Python 3",
   "language": "python",
   "name": "python3"
  },
  "language_info": {
   "codemirror_mode": {
    "name": "ipython",
    "version": 3
   },
   "file_extension": ".py",
   "mimetype": "text/x-python",
   "name": "python",
   "nbconvert_exporter": "python",
   "pygments_lexer": "ipython3",
   "version": "3.8.5"
  }
 },
 "nbformat": 4,
 "nbformat_minor": 4
}
